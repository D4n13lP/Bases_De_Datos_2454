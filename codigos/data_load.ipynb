{
 "cells": [
  {
   "cell_type": "code",
   "execution_count": 16,
   "metadata": {},
   "outputs": [
    {
     "name": "stderr",
     "output_type": "stream",
     "text": [
      "C:\\Users\\danws\\AppData\\Local\\Temp\\ipykernel_30028\\2266596928.py:66: FutureWarning: Downcasting object dtype arrays on .fillna, .ffill, .bfill is deprecated and will change in a future version. Call result.infer_objects(copy=False) instead. To opt-in to the future behavior, set `pd.set_option('future.no_silent_downcasting', True)`\n",
      "  for _, row in df.fillna(0).iterrows():\n"
     ]
    },
    {
     "name": "stdout",
     "output_type": "stream",
     "text": [
      "Datos cargados correctamente en la base de datos.\n"
     ]
    }
   ],
   "source": [
    "import json\n",
    "import pandas as pd\n",
    "import pymysql\n",
    "\n",
    "# Cargar el archivo JSON\n",
    "with open('meteorología_2023.json') as f:\n",
    "    data = json.load(f)\n",
    "\n",
    "# Aplanar la estructura del JSON (con manejo de valores faltantes)\n",
    "flattened_data = []\n",
    "for date, measurements in data['pollutionMeasurements']['date'].items():\n",
    "    for station, values in measurements.items():\n",
    "        flattened_data.append([\n",
    "            date,\n",
    "            station,\n",
    "            values.get('RH', None),\n",
    "            values.get('TMP', None),\n",
    "            values.get('WDR', None),\n",
    "            values.get('WSP', None),\n",
    "            values.get('PBa', None)\n",
    "        ])\n",
    "\n",
    "# Crear DataFrame con nombres de columnas explícitos\n",
    "df = pd.DataFrame(flattened_data, columns=['Fecha y Hora', 'Estación', 'RH', 'TMP', 'WDR', 'WSP', 'PBa'])\n",
    "\n",
    "# Corregir la hora \"24:00\" (si existe) a \"00:00\"\n",
    "df['Fecha y Hora'] = df['Fecha y Hora'].astype(str).str.replace(' 24:00', ' 00:00', regex=False)\n",
    "\n",
    "# Convertir la columna 'Fecha y Hora' a datetime y luego a cadena de texto\n",
    "df['Fecha y Hora'] = pd.to_datetime(df['Fecha y Hora']).dt.strftime('%Y-%m-%d %H:%M:%S')\n",
    "\n",
    "# Conectar a MySQL (agregando el parámetro charset)\n",
    "connection = pymysql.connect(\n",
    "    host='34.72.69.10',\n",
    "    user='bd_conagua',\n",
    "    password='HkW0eiFxfT5iUv31',\n",
    "    database='conagua',\n",
    "    port=3306,\n",
    "    charset='utf8mb4'  # Codificación UTF-8 para caracteres especiales\n",
    ")\n",
    "\n",
    "cursor = connection.cursor()\n",
    "\n",
    "# Crear la tabla si no existe\n",
    "create_table_query = \"\"\"\n",
    "CREATE TABLE IF NOT EXISTS mediciones (\n",
    "    `Fecha y Hora` DATETIME,\n",
    "    `Estación` VARCHAR(255),\n",
    "    `RH` DECIMAL(5,2),\n",
    "    `TMP` DECIMAL(5,2),\n",
    "    `WDR` DECIMAL(5,2),\n",
    "    `WSP` DECIMAL(5,2),\n",
    "    `PBa` DECIMAL(5,2)\n",
    ")\n",
    "\"\"\"\n",
    "cursor.execute(create_table_query)\n",
    "\n",
    "# Insertar los datos en la tabla\n",
    "insert_query = \"\"\"\n",
    "INSERT INTO mediciones (`Fecha y Hora`, `Estación`, `RH`, `TMP`, `WDR`, `WSP`, `PBa`)\n",
    "VALUES (%s, %s, %s, %s, %s, %s, %s)\n",
    "\"\"\"\n",
    "\n",
    "# Convertir el DataFrame a una lista de tuplas para la inserción, convirtiendo fechas a cadenas y formateando otros tipos de datos\n",
    "data_to_insert = []\n",
    "for _, row in df.fillna(0).iterrows():\n",
    "    data_to_insert.append(tuple(\n",
    "        [\n",
    "            row[\"Fecha y Hora\"],\n",
    "            row[\"Estación\"],\n",
    "            float(row[\"RH\"]) if row[\"RH\"] else None,\n",
    "            float(row[\"TMP\"]) if row[\"TMP\"] else None,\n",
    "            float(row[\"WDR\"]) if row[\"WDR\"] else None,\n",
    "            float(row[\"WSP\"]) if row[\"WSP\"] else None,\n",
    "            float(row[\"PBa\"]) if row[\"PBa\"] else None\n",
    "        ]\n",
    "    ))\n",
    "\n",
    "cursor.executemany(insert_query, data_to_insert)\n",
    "\n",
    "connection.commit()\n",
    "cursor.close()\n",
    "connection.close()\n",
    "\n",
    "print(\"Datos cargados correctamente en la base de datos.\")\n"
   ]
  }
 ],
 "metadata": {
  "kernelspec": {
   "display_name": "Python 3",
   "language": "python",
   "name": "python3"
  },
  "language_info": {
   "codemirror_mode": {
    "name": "ipython",
    "version": 3
   },
   "file_extension": ".py",
   "mimetype": "text/x-python",
   "name": "python",
   "nbconvert_exporter": "python",
   "pygments_lexer": "ipython3",
   "version": "3.12.2"
  }
 },
 "nbformat": 4,
 "nbformat_minor": 2
}
